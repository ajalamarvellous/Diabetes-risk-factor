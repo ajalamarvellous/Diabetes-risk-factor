{
  "nbformat": 4,
  "nbformat_minor": 0,
  "metadata": {
    "colab": {
      "name": "Diabetes deployment script.ipynb",
      "provenance": [],
      "collapsed_sections": [],
      "authorship_tag": "ABX9TyOckkiwlEuArqfafDrNPgOs",
      "include_colab_link": true
    },
    "kernelspec": {
      "name": "python3",
      "display_name": "Python 3"
    }
  },
  "cells": [
    {
      "cell_type": "markdown",
      "metadata": {
        "id": "view-in-github",
        "colab_type": "text"
      },
      "source": [
        "<a href=\"https://colab.research.google.com/github/ajalamarvellous/Diabetes-risk-factor/blob/main/Diabetes_deployment_script.ipynb\" target=\"_parent\"><img src=\"https://colab.research.google.com/assets/colab-badge.svg\" alt=\"Open In Colab\"/></a>"
      ]
    },
    {
      "cell_type": "code",
      "metadata": {
        "colab": {
          "base_uri": "https://localhost:8080/"
        },
        "id": "KZtlBf5BliY4",
        "outputId": "3ea47fa7-5c17-406b-c474-ac6bdac1f40a"
      },
      "source": [
        " from google.colab import drive\n",
        "drive.mount('/content/gdrive')"
      ],
      "execution_count": null,
      "outputs": [
        {
          "output_type": "stream",
          "text": [
            "Mounted at /content/gdrive\n"
          ],
          "name": "stdout"
        }
      ]
    },
    {
      "cell_type": "code",
      "metadata": {
        "id": "9OI56oX8mZs_"
      },
      "source": [
        "import pandas as pd\n",
        "import matplotlib.pyplot as PLT\n",
        "import numpy as np"
      ],
      "execution_count": null,
      "outputs": []
    },
    {
      "cell_type": "code",
      "metadata": {
        "id": "yE48KegMmm6J",
        "colab": {
          "base_uri": "https://localhost:8080/"
        },
        "outputId": "d6e225fa-7572-4aa2-f74f-3bea3015aa19"
      },
      "source": [
        "!pip install -q pyngrok"
      ],
      "execution_count": null,
      "outputs": [
        {
          "output_type": "stream",
          "text": [
            "  Building wheel for pyngrok (setup.py) ... \u001b[?25l\u001b[?25hdone\n"
          ],
          "name": "stdout"
        }
      ]
    },
    {
      "cell_type": "code",
      "metadata": {
        "id": "IG4L6pnDo4XX",
        "colab": {
          "base_uri": "https://localhost:8080/"
        },
        "outputId": "0e386fdb-cf5c-4efe-d32a-3edf2148ab2e"
      },
      "source": [
        "!pip install -q streamlit\n",
        "!pip install -q streamlit_ace"
      ],
      "execution_count": null,
      "outputs": [
        {
          "output_type": "stream",
          "text": [
            "\u001b[K     |████████████████████████████████| 7.5MB 2.4MB/s \n",
            "\u001b[K     |████████████████████████████████| 112kB 55.4MB/s \n",
            "\u001b[K     |████████████████████████████████| 4.5MB 53.5MB/s \n",
            "\u001b[K     |████████████████████████████████| 163kB 47.1MB/s \n",
            "\u001b[K     |████████████████████████████████| 81kB 8.3MB/s \n",
            "\u001b[K     |████████████████████████████████| 122kB 51.6MB/s \n",
            "\u001b[K     |████████████████████████████████| 71kB 8.0MB/s \n",
            "\u001b[?25h  Building wheel for blinker (setup.py) ... \u001b[?25l\u001b[?25hdone\n",
            "\u001b[31mERROR: google-colab 1.0.0 has requirement ipykernel~=4.10, but you'll have ipykernel 5.4.3 which is incompatible.\u001b[0m\n",
            "\u001b[K     |████████████████████████████████| 3.9MB 4.2MB/s \n",
            "\u001b[?25h"
          ],
          "name": "stdout"
        }
      ]
    },
    {
      "cell_type": "code",
      "metadata": {
        "id": "bZUzGmQX2vVH"
      },
      "source": [
        " #creating a variable that contains the pathway to data we'll be using\n",
        "pathway = \"/content/gdrive/MyDrive/Data/\""
      ],
      "execution_count": null,
      "outputs": []
    },
    {
      "cell_type": "code",
      "metadata": {
        "colab": {
          "base_uri": "https://localhost:8080/"
        },
        "id": "qLoyfJP0qYrC",
        "outputId": "90428cfd-3f3e-4f65-948d-464092141829"
      },
      "source": [
        " \n",
        "%%writefile app.py \n",
        " \n",
        "#creating a variable that contains the pathway to data we'll be using\n",
        "pathway = \"/content/gdrive/MyDrive/Data/\"\n",
        " \n",
        "import pickle\n",
        "import streamlit as st \n",
        " \n",
        "# loading the trained model\n",
        "pickle_in = open(pathway +'classifier.pkl', 'rb') \n",
        "classifier = pickle.load(pickle_in)\n",
        " \n",
        "@st.cache() \n",
        "# defining the function which will make the prediction using the data which the user inputs \n",
        "def prediction(Age, Gender,Polyuria, Polydipsia, sudden_weight_loss, weakness, Polyphagia, Genital_thrush, visual_blurring, Itching, Irritability, delayed_healing, partial_paresis, muscle_stiffness, Alopecia, Obesity): \n",
        "    # Pre-processing user input\n",
        "    if Gender == \"Female\":\n",
        "        Gender = 0\n",
        "    else:\n",
        "        Gender = 1\n",
        "    if Polyuria < 2:\n",
        "        Polyuria = 0\n",
        "    else:\n",
        "        Polyuria = 1\n",
        "    if Polydipsia== \"No\":\n",
        "        Polydipsia = 0\n",
        "    else:\n",
        "        Polydipsia = 1\n",
        "    if sudden_weight_loss== \"No\":\n",
        "        sudden_weight_loss = 0\n",
        "    else:\n",
        "        sudden_weight_loss = 1\n",
        "    if weakness== \"No\":\n",
        "        weakness = 0\n",
        "    else:\n",
        "        weakness = 1\n",
        "    if Polyphagia== \"Large portion alot of times a day\":\n",
        "        Polyphagia = 1\n",
        "    else:\n",
        "        Polyphagia= 0\n",
        "    if Genital_thrush== \"No\":\n",
        "        Genital_thrush = 0\n",
        "    else:\n",
        "        Genital_thrush = 1\n",
        "    if visual_blurring== \"No\":\n",
        "        visual_blurring = 0\n",
        "    else:\n",
        "        visual_blurring = 1\n",
        "    if Itching== \"No\":\n",
        "        Itching = 0\n",
        "    else:\n",
        "        Itching = 1    \n",
        "    if Irritability== \"No\":\n",
        "        Irritability = 0\n",
        "    else:\n",
        "        Irritability = 1\n",
        "    if delayed_healing== \"No\":\n",
        "        delayed_healing = 0\n",
        "    else:\n",
        "        delayed_healing = 1\n",
        "    if partial_paresis== \"No\":\n",
        "        partial_paresis = 0\n",
        "    else:\n",
        "        partial_paresis = 1\n",
        "    if muscle_stiffness== \"No\":\n",
        "        muscle_stiffness = 0\n",
        "    else:\n",
        "        muscle_stiffness = 1\n",
        "    if Alopecia== \"No\":\n",
        "        Alopecia = 0\n",
        "    else:\n",
        "        Alopecia = 1\n",
        "    if Obesity < 80:\n",
        "        Obesity = 0\n",
        "    else:\n",
        "        Obesity = 1\n",
        "     # Making predictions\n",
        "    prediction = classifier.predict([[Age, Gender,Polyuria, Polydipsia, sudden_weight_loss, weakness, Polyphagia, Genital_thrush, visual_blurring, Itching, Irritability, delayed_healing, partial_paresis, muscle_stiffness, Alopecia, Obesity]])\n",
        " \n",
        "    if prediction == 0:\n",
        "        pred = \"Yay!!!!! You don't have any undiagnosed diabetes\"\n",
        "    else: \n",
        "        pred = \"Ooops!!! Seems like you have diabetes you didn't know about, you should go check your blood sugar\"\n",
        "    return pred\n",
        " \n",
        "# this is the main function in which we define our webpage  \n",
        "def main():\n",
        "     # front end elements of the web page\n",
        "    html_temp = \"\"\"\n",
        "    <div style =\"background-color:orange;padding:13px\">\n",
        "    <h1 style =\"color:black;text-align:center;\">Undiagnosed diabetes Prediction ML App</h1>\n",
        "    <h2 style =\"color:black;text-align:center;\">Please, note that this model is not to be used to make medical decisions, it's a show of concept</h2>\n",
        "    </div> \n",
        "    \"\"\"         \n",
        "   # display the front end aspect\n",
        "    st.markdown(html_temp, unsafe_allow_html = True)\n",
        "    # following lines create boxes in which user can enter data required to make prediction\n",
        "    Age = st.number_input(\"Age\")\n",
        "    Gender = st.selectbox('Gender',(\"Male\",\"Female\"))\n",
        "    Polyuria = st.number_input(\"How many times do you urinate in a day?\") \n",
        "    Polydipsia = st.selectbox(\"Do you drink water often?\" ,(\"Yes\",\"No\"))\n",
        "    sudden_weight_loss = st.selectbox(\"Did you experience  sudden weight loss?\" ,(\"Yes\",\"No\"))\n",
        "    weakness = st.selectbox(\"Do you experience weakness often?\" ,(\"Yes\",\"No\"))\n",
        "    Polyphagia = st.selectbox(\"How will you describe your eating Habit?\" ,(\"Small portion few times a day\",\"small portion alot of times a day\", \"Large portion few times a day\", \"Large portion alot of times a day\"))\n",
        "    Genital_thrush = st.selectbox(\"Do you experience itching, soreness and discharge from your genitalia?\" ,(\"Yes\",\"No\"))\n",
        "    visual_blurring = st.selectbox(\"Do you experience visual blurring?\" ,(\"Yes\",\"No\"))\n",
        "    Itching = st.selectbox(\"Do you experience Itching often?\" ,(\"Yes\",\"No\"))\n",
        "    Irritability = st.selectbox(\"Do you experience Irritability often?\" ,(\"Yes\",\"No\"))\n",
        "    delayed_healing = st.selectbox(\"Does your wounds take longer to heal?\" ,(\"Yes\",\"No\"))\n",
        "    partial_paresis = st.selectbox(\"Do you experience weakness around the muscles of your hip and leg often?\" ,(\"Yes\",\"No\"))\n",
        "    muscle_stiffness = st.selectbox(\"Do you experience muscle stiffness often?\" ,(\"Yes\",\"No\"))\n",
        "    Alopecia = st.selectbox(\"Do you experience hair loss often?\" ,(\"Yes\",\"No\"))\n",
        "    Obesity = st.number_input(\"Weight\")\n",
        "    \n",
        "    result =\"\"          \n",
        "    # when 'Predict' is clicked, make the prediction and store it\n",
        "    if st.button(\"Predict\"):\n",
        "        result = prediction(Age, Gender,Polyuria, Polydipsia, sudden_weight_loss, weakness, Polyphagia, Genital_thrush, visual_blurring, Itching, Irritability, delayed_healing, partial_paresis, muscle_stiffness, Alopecia, Obesity)\n",
        "        st.success('And your result is  {}'.format(result))\n",
        " \n",
        "if __name__=='__main__':\n",
        "    main()"
      ],
      "execution_count": null,
      "outputs": [
        {
          "output_type": "stream",
          "text": [
            "Writing app.py\n"
          ],
          "name": "stdout"
        }
      ]
    },
    {
      "cell_type": "code",
      "metadata": {
        "id": "QHSAh2Ns80LR"
      },
      "source": [
        ""
      ],
      "execution_count": null,
      "outputs": []
    },
    {
      "cell_type": "code",
      "metadata": {
        "id": "Ok-UdT9gX1zw"
      },
      "source": [
        " !streamlit run app.py &>/dev/null&"
      ],
      "execution_count": null,
      "outputs": []
    },
    {
      "cell_type": "code",
      "metadata": {
        "colab": {
          "base_uri": "https://localhost:8080/"
        },
        "id": "5lzAzDGVX4F6",
        "outputId": "bb5d9325-9c55-42ae-eb1a-b4f8214bff8b"
      },
      "source": [
        " from pyngrok import ngrok\n",
        "public_url = ngrok.connect('8501')\n",
        "public_url"
      ],
      "execution_count": null,
      "outputs": [
        {
          "output_type": "stream",
          "text": [
            ""
          ],
          "name": "stdout"
        },
        {
          "output_type": "execute_result",
          "data": {
            "text/plain": [
              "<NgrokTunnel: \"http://12fcbfb309b1.ngrok.io\" -> \"http://localhost:8501\">"
            ]
          },
          "metadata": {
            "tags": []
          },
          "execution_count": 9
        }
      ]
    }
  ]
}